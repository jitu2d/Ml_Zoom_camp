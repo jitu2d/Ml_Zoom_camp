{
 "cells": [
  {
   "cell_type": "code",
   "execution_count": 3,
   "id": "45504795-a6f0-4572-96ac-41d8b449596c",
   "metadata": {},
   "outputs": [],
   "source": [
    "import numpy as np"
   ]
  },
  {
   "cell_type": "markdown",
   "id": "3d9b1fbf-d7b1-4f78-b92d-617531ef1557",
   "metadata": {},
   "source": [
    "# Creating arrays\n"
   ]
  },
  {
   "cell_type": "code",
   "execution_count": 4,
   "id": "d650b7f5-d442-4a5b-9504-8dddbcc2092f",
   "metadata": {},
   "outputs": [
    {
     "data": {
      "text/plain": [
       "array([0., 0., 0., 0., 0., 0., 0., 0., 0., 0.])"
      ]
     },
     "execution_count": 4,
     "metadata": {},
     "output_type": "execute_result"
    }
   ],
   "source": [
    "np.zeros(10) #1D array"
   ]
  },
  {
   "cell_type": "code",
   "execution_count": 5,
   "id": "19534812-dd60-4349-b2e2-426e514638ef",
   "metadata": {},
   "outputs": [
    {
     "data": {
      "text/plain": [
       "array([1., 1., 1., 1., 1., 1., 1., 1., 1., 1.])"
      ]
     },
     "execution_count": 5,
     "metadata": {},
     "output_type": "execute_result"
    }
   ],
   "source": [
    "np.ones(10)"
   ]
  },
  {
   "cell_type": "code",
   "execution_count": 6,
   "id": "fe40e356-86e2-415d-8772-a6cd595e7459",
   "metadata": {},
   "outputs": [
    {
     "data": {
      "text/plain": [
       "array([2.3, 2.3, 2.3, 2.3, 2.3])"
      ]
     },
     "execution_count": 6,
     "metadata": {},
     "output_type": "execute_result"
    }
   ],
   "source": [
    "np.full(5, 2.3)"
   ]
  },
  {
   "cell_type": "code",
   "execution_count": 7,
   "id": "004c53c0-c763-493e-b90a-64ba059c8814",
   "metadata": {},
   "outputs": [
    {
     "data": {
      "text/plain": [
       "array([1, 2, 3, 4, 5])"
      ]
     },
     "execution_count": 7,
     "metadata": {},
     "output_type": "execute_result"
    }
   ],
   "source": [
    "a = np.array([1,2,3,4,5])\n",
    "a"
   ]
  },
  {
   "cell_type": "code",
   "execution_count": 8,
   "id": "e2bdb543-7e00-4df6-8dad-3e9db462371b",
   "metadata": {},
   "outputs": [
    {
     "data": {
      "text/plain": [
       "np.int64(4)"
      ]
     },
     "execution_count": 8,
     "metadata": {},
     "output_type": "execute_result"
    }
   ],
   "source": [
    "a[3]"
   ]
  },
  {
   "cell_type": "code",
   "execution_count": 9,
   "id": "5d6ed008-0011-47f0-b204-44ecb7b0ab2f",
   "metadata": {},
   "outputs": [
    {
     "data": {
      "text/plain": [
       "array([0, 1, 2, 3, 4, 5, 6, 7, 8, 9])"
      ]
     },
     "execution_count": 9,
     "metadata": {},
     "output_type": "execute_result"
    }
   ],
   "source": [
    "np.arange(10)# arrange the list"
   ]
  },
  {
   "cell_type": "code",
   "execution_count": 10,
   "id": "39f8ac77-60f4-4880-b146-31fb5f91c13d",
   "metadata": {},
   "outputs": [
    {
     "data": {
      "text/plain": [
       "array([  1. ,  10.9,  20.8,  30.7,  40.6,  50.5,  60.4,  70.3,  80.2,\n",
       "        90.1, 100. ])"
      ]
     },
     "execution_count": 10,
     "metadata": {},
     "output_type": "execute_result"
    }
   ],
   "source": [
    "np.linspace(1,100,11)"
   ]
  },
  {
   "cell_type": "markdown",
   "id": "da4085f5-21dc-4e30-adee-47e89f1c278d",
   "metadata": {},
   "source": [
    "# Multidimentional arrays\n"
   ]
  },
  {
   "cell_type": "code",
   "execution_count": 11,
   "id": "f840fbae-4139-467c-bca5-9f1ac2c2f850",
   "metadata": {},
   "outputs": [
    {
     "data": {
      "text/plain": [
       "array([[0., 0.],\n",
       "       [0., 0.],\n",
       "       [0., 0.],\n",
       "       [0., 0.],\n",
       "       [0., 0.]])"
      ]
     },
     "execution_count": 11,
     "metadata": {},
     "output_type": "execute_result"
    }
   ],
   "source": [
    "np.zeros((5,2))"
   ]
  },
  {
   "cell_type": "code",
   "execution_count": 12,
   "id": "1413c1e4-d3f7-4aa3-bfcb-a52c8d414d6c",
   "metadata": {},
   "outputs": [],
   "source": [
    "a= np.array([[1,2,3],\n",
    "         [4,5,6],\n",
    "         [7,8,9]])"
   ]
  },
  {
   "cell_type": "code",
   "execution_count": 13,
   "id": "3390abb4-cb20-4d11-a877-4e5e33c50434",
   "metadata": {},
   "outputs": [
    {
     "data": {
      "text/plain": [
       "np.int64(2)"
      ]
     },
     "execution_count": 13,
     "metadata": {},
     "output_type": "execute_result"
    }
   ],
   "source": [
    "a[0,1]"
   ]
  },
  {
   "cell_type": "code",
   "execution_count": 14,
   "id": "75af568a-721f-4722-8c36-97bfdadf7c89",
   "metadata": {},
   "outputs": [],
   "source": [
    "a[2,1]=5"
   ]
  },
  {
   "cell_type": "code",
   "execution_count": 15,
   "id": "2099348b-6d54-4b23-b335-90f2b704e976",
   "metadata": {},
   "outputs": [
    {
     "data": {
      "text/plain": [
       "array([[1, 2, 3],\n",
       "       [4, 5, 6],\n",
       "       [7, 5, 9]])"
      ]
     },
     "execution_count": 15,
     "metadata": {},
     "output_type": "execute_result"
    }
   ],
   "source": [
    "a"
   ]
  },
  {
   "cell_type": "code",
   "execution_count": 16,
   "id": "ccb2a961-3221-4a03-9ae3-6430b1e61f6a",
   "metadata": {},
   "outputs": [
    {
     "data": {
      "text/plain": [
       "array([7, 5, 9])"
      ]
     },
     "execution_count": 16,
     "metadata": {},
     "output_type": "execute_result"
    }
   ],
   "source": [
    "a[2]# prints row"
   ]
  },
  {
   "cell_type": "code",
   "execution_count": 17,
   "id": "ccc3c3f5-be00-4018-8df8-cf5043974b72",
   "metadata": {},
   "outputs": [
    {
     "data": {
      "text/plain": [
       "array([[1, 2, 3],\n",
       "       [4, 5, 6],\n",
       "       [1, 2, 3]])"
      ]
     },
     "execution_count": 17,
     "metadata": {},
     "output_type": "execute_result"
    }
   ],
   "source": [
    "a[2]=[1,2,3]\n",
    "a"
   ]
  },
  {
   "cell_type": "code",
   "execution_count": 18,
   "id": "a710abb8-b76c-4e58-bff3-9ad008ea65e7",
   "metadata": {},
   "outputs": [
    {
     "data": {
      "text/plain": [
       "array([2, 5, 2])"
      ]
     },
     "execution_count": 18,
     "metadata": {},
     "output_type": "execute_result"
    }
   ],
   "source": [
    "a[:,1]# prints column\n"
   ]
  },
  {
   "cell_type": "code",
   "execution_count": 19,
   "id": "56fb8781-0abd-43ad-b7e5-2a5c59f1bb85",
   "metadata": {},
   "outputs": [
    {
     "data": {
      "text/plain": [
       "array([[1, 2, 3],\n",
       "       [4, 5, 6],\n",
       "       [1, 2, 3]])"
      ]
     },
     "execution_count": 19,
     "metadata": {},
     "output_type": "execute_result"
    }
   ],
   "source": [
    "a"
   ]
  },
  {
   "cell_type": "markdown",
   "id": "e5863899-11ee-460e-9bdc-d58cba391678",
   "metadata": {},
   "source": [
    "# Generate random Array"
   ]
  },
  {
   "cell_type": "code",
   "execution_count": 20,
   "id": "175e34c5-804e-4cb2-b505-1b336e1c8acf",
   "metadata": {},
   "outputs": [
    {
     "data": {
      "text/plain": [
       "array([[0.4359949 , 0.02592623, 0.54966248, 0.43532239, 0.4203678 ,\n",
       "        0.33033482],\n",
       "       [0.20464863, 0.61927097, 0.29965467, 0.26682728, 0.62113383,\n",
       "        0.52914209],\n",
       "       [0.13457995, 0.51357812, 0.18443987, 0.78533515, 0.85397529,\n",
       "        0.49423684],\n",
       "       [0.84656149, 0.07964548, 0.50524609, 0.0652865 , 0.42812233,\n",
       "        0.09653092]])"
      ]
     },
     "execution_count": 20,
     "metadata": {},
     "output_type": "execute_result"
    }
   ],
   "source": [
    "np.random.seed(2) #we fixed so we dont get any number\n",
    "np.random.rand(4,6)#prints random arrays\n"
   ]
  },
  {
   "cell_type": "code",
   "execution_count": 21,
   "id": "83a84dde-e97b-4768-b54e-d387a97570f6",
   "metadata": {},
   "outputs": [
    {
     "data": {
      "text/plain": [
       "array([[ 2.56570452e-01, -9.88779049e-01, -3.38821966e-01,\n",
       "        -2.36184031e-01, -6.37655012e-01, -1.18761229e+00],\n",
       "       [-1.42121723e+00, -1.53495196e-01, -2.69056960e-01,\n",
       "         2.23136679e+00, -2.43476758e+00,  1.12726505e-01],\n",
       "       [ 3.70444537e-01,  1.35963386e+00,  5.01857207e-01,\n",
       "        -8.44213704e-01,  9.76147160e-06,  5.42352572e-01],\n",
       "       [-3.13508197e-01,  7.71011738e-01, -1.86809065e+00,\n",
       "         1.73118467e+00,  1.46767801e+00, -3.35677339e-01]])"
      ]
     },
     "execution_count": 21,
     "metadata": {},
     "output_type": "execute_result"
    }
   ],
   "source": [
    "np.random.randn(4,6)# we say numbers are normal (n)standard"
   ]
  },
  {
   "cell_type": "code",
   "execution_count": 22,
   "id": "20eced49-0bde-4ceb-9311-112b62a825c8",
   "metadata": {},
   "outputs": [
    {
     "data": {
      "text/plain": [
       "array([[70, 86, 70, 19],\n",
       "       [56, 82,  1, 68],\n",
       "       [40, 81, 61, 70],\n",
       "       [97, 18, 84, 90],\n",
       "       [87, 22, 43, 52]])"
      ]
     },
     "execution_count": 22,
     "metadata": {},
     "output_type": "execute_result"
    }
   ],
   "source": [
    "np.random.randint(low=0,high=100, size=(5,4))"
   ]
  },
  {
   "cell_type": "markdown",
   "id": "8eede74f-f7c1-48eb-9fbe-904518aa42b2",
   "metadata": {},
   "source": [
    "# Element Wise Operation"
   ]
  },
  {
   "cell_type": "code",
   "execution_count": 23,
   "id": "f2af76a7-c9fd-4dc9-9c46-0f95c43b7cb8",
   "metadata": {},
   "outputs": [
    {
     "data": {
      "text/plain": [
       "array([0, 1, 2, 3, 4, 5, 6, 7, 8, 9])"
      ]
     },
     "execution_count": 23,
     "metadata": {},
     "output_type": "execute_result"
    }
   ],
   "source": [
    "a= np.arange(10)\n",
    "a"
   ]
  },
  {
   "cell_type": "code",
   "execution_count": 24,
   "id": "dcc19659-7791-4a69-b39b-852b56c984cf",
   "metadata": {},
   "outputs": [
    {
     "data": {
      "text/plain": [
       "array([ 1,  2,  3,  4,  5,  6,  7,  8,  9, 10])"
      ]
     },
     "execution_count": 24,
     "metadata": {},
     "output_type": "execute_result"
    }
   ],
   "source": [
    "a + 1"
   ]
  },
  {
   "cell_type": "code",
   "execution_count": 25,
   "id": "eff57675-a592-45c1-b746-f1aabf03b754",
   "metadata": {},
   "outputs": [
    {
     "data": {
      "text/plain": [
       "array([  0, 100, 200, 300, 400, 500, 600, 700, 800, 900])"
      ]
     },
     "execution_count": 25,
     "metadata": {},
     "output_type": "execute_result"
    }
   ],
   "source": [
    "a*100"
   ]
  },
  {
   "cell_type": "code",
   "execution_count": 26,
   "id": "4de9cf92-850f-4d98-ad76-60d46f333183",
   "metadata": {},
   "outputs": [
    {
     "data": {
      "text/plain": [
       "array([ 0,  4,  8, 12, 16, 20, 24, 28, 32, 36])"
      ]
     },
     "execution_count": 26,
     "metadata": {},
     "output_type": "execute_result"
    }
   ],
   "source": [
    "b=a*4\n",
    "b"
   ]
  },
  {
   "cell_type": "code",
   "execution_count": 27,
   "id": "129bee44-5a6d-4a68-a850-868c9c75db1a",
   "metadata": {},
   "outputs": [
    {
     "data": {
      "text/plain": [
       "array([ 0,  5, 10, 15, 20, 25, 30, 35, 40, 45])"
      ]
     },
     "execution_count": 27,
     "metadata": {},
     "output_type": "execute_result"
    }
   ],
   "source": [
    "a+ b"
   ]
  },
  {
   "cell_type": "code",
   "execution_count": 28,
   "id": "797c2c3b-2060-40de-9229-1aed96a2bf38",
   "metadata": {},
   "outputs": [
    {
     "data": {
      "text/plain": [
       "array([  0,   4,  16,  36,  64, 100, 144, 196, 256, 324])"
      ]
     },
     "execution_count": 28,
     "metadata": {},
     "output_type": "execute_result"
    }
   ],
   "source": [
    "a*b"
   ]
  },
  {
   "cell_type": "markdown",
   "id": "f1d5f0d7-c422-45cf-ab38-3c5c5a8c1ace",
   "metadata": {},
   "source": [
    "# compaarision operation"
   ]
  },
  {
   "cell_type": "code",
   "execution_count": 29,
   "id": "dcf84f88-4c6e-47de-99c5-e4c3442c11a8",
   "metadata": {},
   "outputs": [
    {
     "data": {
      "text/plain": [
       "array([False, False,  True,  True,  True,  True,  True,  True,  True,\n",
       "        True])"
      ]
     },
     "execution_count": 29,
     "metadata": {},
     "output_type": "execute_result"
    }
   ],
   "source": [
    "a>=2 #compare all elements of the a"
   ]
  },
  {
   "cell_type": "code",
   "execution_count": 30,
   "id": "d9a67f78-8f48-4513-ab16-ec5309c8a6cc",
   "metadata": {},
   "outputs": [
    {
     "data": {
      "text/plain": [
       "np.int64(45)"
      ]
     },
     "execution_count": 30,
     "metadata": {},
     "output_type": "execute_result"
    }
   ],
   "source": [
    "a.min()\n",
    "a.max()\n",
    "a.mean()\n",
    "a.sum()\n"
   ]
  },
  {
   "cell_type": "markdown",
   "id": "c0dddab6-e6ea-4d21-9c22-150c946bff19",
   "metadata": {},
   "source": [
    "# Multiplication\n",
    "   ## vector vector multiplication(dot product)\n",
    "\n",
    "   ## vector Matrix multiplication\n",
    "   ## Matrix Matrix Multiplication"
   ]
  },
  {
   "cell_type": "code",
   "execution_count": 31,
   "id": "8a052393-d68b-4946-b060-69e34015d856",
   "metadata": {},
   "outputs": [],
   "source": [
    "def vector_vector_multiplication(a,b):\n",
    "    assert a.shape[0]== b.shape[0]\n",
    "    n =  a.shape[0]\n",
    "    result = 0.0\n",
    "    for i in range(n):\n",
    "        result= result + a[i]*b[i]    \n",
    "    return result \n"
   ]
  },
  {
   "cell_type": "code",
   "execution_count": 32,
   "id": "1171e190-cb2c-4b3f-ac03-62cf8b6b82f1",
   "metadata": {},
   "outputs": [
    {
     "data": {
      "text/plain": [
       "np.float64(1140.0)"
      ]
     },
     "execution_count": 32,
     "metadata": {},
     "output_type": "execute_result"
    }
   ],
   "source": [
    "vector_vector_multiplication(a,b)"
   ]
  },
  {
   "cell_type": "code",
   "execution_count": 33,
   "id": "1bc79ef9-b79a-4121-989d-f98b22f55961",
   "metadata": {},
   "outputs": [
    {
     "data": {
      "text/plain": [
       "np.int64(1140)"
      ]
     },
     "execution_count": 33,
     "metadata": {},
     "output_type": "execute_result"
    }
   ],
   "source": [
    "a.dot(b)# its dot product very esaily"
   ]
  },
  {
   "cell_type": "code",
   "execution_count": 34,
   "id": "9df0a02e-03fe-4c96-a207-29f6c8bf50d2",
   "metadata": {},
   "outputs": [],
   "source": [
    "U = np.array([[1,2,3,4],\n",
    "         [4,5,6,5],\n",
    "         [7,8,9,6],\n",
    "        [7,8,9,6]])"
   ]
  },
  {
   "cell_type": "code",
   "execution_count": 35,
   "id": "65ea895c-f0a7-450b-ac74-28322042c486",
   "metadata": {},
   "outputs": [
    {
     "data": {
      "text/plain": [
       "(4, 4)"
      ]
     },
     "execution_count": 35,
     "metadata": {},
     "output_type": "execute_result"
    }
   ],
   "source": [
    "U.shape"
   ]
  },
  {
   "cell_type": "code",
   "execution_count": 36,
   "id": "7afcb5f5-e7b7-466a-8539-734149c5d5eb",
   "metadata": {},
   "outputs": [
    {
     "data": {
      "text/plain": [
       "(4,)"
      ]
     },
     "execution_count": 36,
     "metadata": {},
     "output_type": "execute_result"
    }
   ],
   "source": [
    "v= np.arange(4)\n",
    "v.shape"
   ]
  },
  {
   "cell_type": "code",
   "execution_count": 37,
   "id": "8971cdae-8df9-4c42-867b-b2d8222fb21d",
   "metadata": {},
   "outputs": [],
   "source": [
    "def matrix_vector_multiplication(U, v):\n",
    "    assert U.shape[1] == v.shape[0]\n",
    "    \n",
    "    num_rows = U.shape[0]\n",
    "    \n",
    "    result = np.zeros(num_rows)\n",
    "    \n",
    "    for i in range(num_rows):\n",
    "        result[i] = vector_vector_multiplication(U[i], v)\n",
    "    return result"
   ]
  },
  {
   "cell_type": "code",
   "execution_count": 38,
   "id": "8d759d31-4439-414f-96d0-5629683d7944",
   "metadata": {},
   "outputs": [
    {
     "data": {
      "text/plain": [
       "array([20., 32., 44., 44.])"
      ]
     },
     "execution_count": 38,
     "metadata": {},
     "output_type": "execute_result"
    }
   ],
   "source": [
    "matrix_vector_multiplication(U, v)"
   ]
  },
  {
   "cell_type": "code",
   "execution_count": 39,
   "id": "d99a507b-697c-4860-a6c8-82c730a5f721",
   "metadata": {},
   "outputs": [
    {
     "data": {
      "text/plain": [
       "array([20, 32, 44, 44])"
      ]
     },
     "execution_count": 39,
     "metadata": {},
     "output_type": "execute_result"
    }
   ],
   "source": [
    "U.dot(v)"
   ]
  },
  {
   "cell_type": "markdown",
   "id": "ccb2d30c-596c-494e-95ec-49f64f7f8988",
   "metadata": {},
   "source": [
    "# Idntity Matrix"
   ]
  },
  {
   "cell_type": "code",
   "execution_count": 40,
   "id": "6741b66f-c149-41d3-89af-75759d78e406",
   "metadata": {},
   "outputs": [],
   "source": [
    "I=np.eye(4)\n"
   ]
  },
  {
   "cell_type": "code",
   "execution_count": 41,
   "id": "fc2eacea-5cc4-4c63-93ab-078bbf10e238",
   "metadata": {},
   "outputs": [
    {
     "data": {
      "text/plain": [
       "array([[1., 0., 0., 0.],\n",
       "       [0., 1., 0., 0.],\n",
       "       [0., 0., 1., 0.],\n",
       "       [0., 0., 0., 1.]])"
      ]
     },
     "execution_count": 41,
     "metadata": {},
     "output_type": "execute_result"
    }
   ],
   "source": [
    "I\n"
   ]
  },
  {
   "cell_type": "code",
   "execution_count": 42,
   "id": "7e5c8853-13a1-482f-b350-eb1c2b74d22a",
   "metadata": {},
   "outputs": [
    {
     "data": {
      "text/plain": [
       "array([[5, 8, 3, 0],\n",
       "       [0, 5, 7, 5],\n",
       "       [0, 8, 6, 5],\n",
       "       [1, 7, 4, 3]])"
      ]
     },
     "execution_count": 42,
     "metadata": {},
     "output_type": "execute_result"
    }
   ],
   "source": [
    "p= np.random.randint(low=0,high=10, size=(4,4))\n",
    "p"
   ]
  },
  {
   "cell_type": "code",
   "execution_count": 43,
   "id": "4b636e67-a294-4ed2-a0df-b0f8e0152385",
   "metadata": {},
   "outputs": [
    {
     "data": {
      "text/plain": [
       "array([[5., 8., 3., 0.],\n",
       "       [0., 5., 7., 5.],\n",
       "       [0., 8., 6., 5.],\n",
       "       [1., 7., 4., 3.]])"
      ]
     },
     "execution_count": 43,
     "metadata": {},
     "output_type": "execute_result"
    }
   ],
   "source": [
    "p.dot(I)# multiplying any  vectors with Identity matrix ,we will get the same vectors like multpliying  one b yany number"
   ]
  },
  {
   "cell_type": "code",
   "execution_count": 44,
   "id": "560dc1fd-22ca-40fc-9e95-b4f30139b477",
   "metadata": {},
   "outputs": [
    {
     "data": {
      "text/plain": [
       "array([[1., 0., 0., 0.],\n",
       "       [0., 1., 0., 0.],\n",
       "       [0., 0., 1., 0.],\n",
       "       [0., 0., 0., 1.]])"
      ]
     },
     "execution_count": 44,
     "metadata": {},
     "output_type": "execute_result"
    }
   ],
   "source": [
    "np.linalg.inv(I)# inverse should be equal rows and columns"
   ]
  },
  {
   "cell_type": "code",
   "execution_count": 49,
   "id": "ce532890-fa65-4532-a61f-8cf5c220b53e",
   "metadata": {},
   "outputs": [
    {
     "data": {
      "text/plain": [
       "array([[1, 2, 3, 4],\n",
       "       [1, 2, 3, 4]])"
      ]
     },
     "execution_count": 49,
     "metadata": {},
     "output_type": "execute_result"
    }
   ],
   "source": [
    "s= np.array([[1,2,3,4],[1,2,3,4]])\n",
    "s"
   ]
  },
  {
   "cell_type": "code",
   "execution_count": 51,
   "id": "98515a03-c86f-4187-a49c-8383975b5cb0",
   "metadata": {},
   "outputs": [
    {
     "data": {
      "text/plain": [
       "array([[2, 4, 6, 8],\n",
       "       [2, 4, 6, 8]])"
      ]
     },
     "execution_count": 51,
     "metadata": {},
     "output_type": "execute_result"
    }
   ],
   "source": [
    "s*2"
   ]
  },
  {
   "cell_type": "code",
   "execution_count": null,
   "id": "e060d154-cd52-44e0-867e-3f1af99cf81c",
   "metadata": {},
   "outputs": [],
   "source": []
  }
 ],
 "metadata": {
  "kernelspec": {
   "display_name": "Python 3 (ipykernel)",
   "language": "python",
   "name": "python3"
  },
  "language_info": {
   "codemirror_mode": {
    "name": "ipython",
    "version": 3
   },
   "file_extension": ".py",
   "mimetype": "text/x-python",
   "name": "python",
   "nbconvert_exporter": "python",
   "pygments_lexer": "ipython3",
   "version": "3.12.1"
  }
 },
 "nbformat": 4,
 "nbformat_minor": 5
}
